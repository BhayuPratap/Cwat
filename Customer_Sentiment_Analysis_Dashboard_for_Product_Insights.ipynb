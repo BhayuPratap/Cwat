import pandas as pd
from textblob import TextBlob
import matplotlib.pyplot as plt

# Step 1: Load the CSV file
# Make sure you have the path to the CSV file, for example, 'data.csv'
df = pd.read_csv('/content/ratings_Electronics (1).csv')

# Clean up column names by stripping leading/trailing spaces
df.columns = df.columns.str.strip()

# Step 2: Check the column names to ensure 'Time stamp' is available
print("Columns in the DataFrame:", df.columns)

# Step 3: Convert the timestamp to a readable date format
df['Date'] = pd.to_datetime(df['Time stamp'], unit='s')

# Step 4: Define sentiment analysis based on rating
def analyze_sentiment(rating):
    if rating >= 4:
        return "Positive"
    elif rating == 3:
        return "Neutral"
    else:
        return "Negative"

# Apply sentiment analysis
df['Sentiment'] = df['Rating'].apply(analyze_sentiment)

# Step 5: Visualize the Sentiment Distribution

# Count the occurrences of each sentiment
sentiment_counts = df['Sentiment'].value_counts()

# Plotting a bar chart
plt.figure(figsize=(8, 5))
sentiment_counts.plot(kind='bar', color=['green', 'gray', 'red'])
plt.title('Customer Sentiment Distribution')
plt.xlabel('Sentiment')
plt.ylabel('Count')
plt.xticks(rotation=0)
plt.show()

# Alternatively, you can plot a pie chart:
plt.figure(figsize=(7, 7))
sentiment_counts.plot(kind='pie', autopct='%1.1f%%', colors=['green', 'gray', 'red'], startangle=90, wedgeprops={'edgecolor': 'black'})
plt.title('Customer Sentiment Distribution')
plt.ylabel('')  # Hide y-axis label
plt.show()

# Step 6: Save the cleaned DataFrame with sentiments for future analysis
df.to_csv('cleaned_sentiment_data.csv', index=False)

# Optionally, display the DataFrame with the sentiment analysis
print(df[['User ID', 'Product ID', 'Rating', 'Sentiment', 'Date']])
